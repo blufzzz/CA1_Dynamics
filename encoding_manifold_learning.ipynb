{
 "cells": [
  {
   "cell_type": "code",
   "execution_count": 72,
   "metadata": {},
   "outputs": [
    {
     "name": "stdout",
     "output_type": "stream",
     "text": [
      "The autoreload extension is already loaded. To reload it, use:\n",
      "  %reload_ext autoreload\n"
     ]
    }
   ],
   "source": [
    "%load_ext autoreload \n",
    "\n",
    "import pandas as pd\n",
    "import numpy as np\n",
    "import os\n",
    "\n",
    "from collections import defaultdict\n",
    "from IPython.display import clear_output\n",
    "from IPython.core.debugger import set_trace\n",
    "import matplotlib.pyplot as plt\n",
    "from tqdm import tqdm\n",
    "\n",
    "\n",
    "from sklearn.decomposition import PCA\n",
    "from sklearn.manifold import Isomap,\\\n",
    "                            LocallyLinearEmbedding,\\\n",
    "                            SpectralEmbedding,\\\n",
    "                            TSNE,\\\n",
    "                            locally_linear_embedding\n",
    "from umap import UMAP\n",
    "\n",
    "from sklearn.preprocessing import StandardScaler, RobustScaler\n",
    "from sklearn.model_selection import cross_val_score\n",
    "from sklearn.metrics import make_scorer, r2_score, mean_absolute_error\n",
    "\n",
    "from utils import load_dataset, TRIMS\n",
    "\n",
    "\n",
    "import warnings\n",
    "warnings.filterwarnings(\"ignore\")\n",
    "%autoreload 2"
   ]
  },
  {
   "cell_type": "markdown",
   "metadata": {},
   "source": [
    "# Load data"
   ]
  },
  {
   "cell_type": "code",
   "execution_count": 71,
   "metadata": {},
   "outputs": [],
   "source": [
    "intdims = np.load('./results/int_dim/MLE_intdim_MAX_Circle.npy', allow_pickle=True).item()\n",
    "\n",
    "MOUSES = ['22', '23', '24', '25']\n",
    "DAYS = [1,2,3]"
   ]
  },
  {
   "cell_type": "code",
   "execution_count": 70,
   "metadata": {},
   "outputs": [],
   "source": [
    "for i, mouse in enumerate(MOUSES):\n",
    "    for j, day in enumerate(DAYS):\n",
    "        data, targets = load_dataset('data', mouse=mouse, day=day, track=track, trims=TRIMS[day][mouse])"
   ]
  },
  {
   "cell_type": "code",
   "execution_count": null,
   "metadata": {},
   "outputs": [],
   "source": [
    "lle = LocallyLinearEmbedding(n_components=2, n_neighbors=300, method='modified', n_jobs=-1, random_state=42)\n",
    "X_cadata_lle_nc10_nn150 = lle.fit_transform(X_cadata)"
   ]
  }
 ],
 "metadata": {
  "colab": {
   "name": "Neuro VAE test.ipynb",
   "provenance": []
  },
  "kernelspec": {
   "display_name": "Python 3 (ipykernel)",
   "language": "python",
   "name": "python3"
  },
  "language_info": {
   "codemirror_mode": {
    "name": "ipython",
    "version": 3
   },
   "file_extension": ".py",
   "mimetype": "text/x-python",
   "name": "python",
   "nbconvert_exporter": "python",
   "pygments_lexer": "ipython3",
   "version": "3.8.13"
  }
 },
 "nbformat": 4,
 "nbformat_minor": 1
}
