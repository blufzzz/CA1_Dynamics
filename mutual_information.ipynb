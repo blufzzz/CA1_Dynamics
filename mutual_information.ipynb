{
 "cells": [
  {
   "cell_type": "code",
   "execution_count": 30,
   "id": "cc0cd242",
   "metadata": {},
   "outputs": [
    {
     "name": "stdout",
     "output_type": "stream",
     "text": [
      "The autoreload extension is already loaded. To reload it, use:\n",
      "  %reload_ext autoreload\n"
     ]
    }
   ],
   "source": [
    "%load_ext autoreload \n",
    "\n",
    "import numpy as np\n",
    "import os\n",
    "import pandas as pd\n",
    "\n",
    "from collections import defaultdict\n",
    "from joblib import Parallel, delayed, pool\n",
    "from multiprocessing import cpu_count\n",
    "from IPython.display import clear_output\n",
    "import matplotlib.pyplot as plt\n",
    "from tqdm import tqdm_notebook\n",
    "\n",
    "from sklearn.preprocessing import StandardScaler, MinMaxScaler\n",
    "\n",
    "from sklearn.feature_selection import mutual_info_regression\n",
    "from sklearn.manifold import Isomap, LocallyLinearEmbedding, TSNE\n",
    "from sklearn.preprocessing import StandardScaler, RobustScaler\n",
    "from umap import UMAP\n",
    "\n",
    "from utils import load_dataset, TRIMS\n",
    "N_CPU = cpu_count()\n",
    "import warnings\n",
    "warnings.filterwarnings(\"ignore\")\n",
    "%autoreload 2\n",
    "\n",
    "plt.rcParams['font.size'] = 20"
   ]
  },
  {
   "cell_type": "code",
   "execution_count": 31,
   "id": "634801d0",
   "metadata": {},
   "outputs": [],
   "source": [
    "def evaluate_mi(method, X, y, n_neighbors_mi=50):\n",
    "    Z = method.fit_transform(X)\n",
    "    mi_Z = mutual_info_regression(Z, y, discrete_features=False, n_neighbors=n_neighbors_mi, random_state=42)    \n",
    "    return mi_Z.mean()\n",
    "\n",
    "def normalize_features(X):\n",
    "    return X / (np.linalg.norm(X,axis=-1)[:,None] + 1e-7)"
   ]
  },
  {
   "cell_type": "code",
   "execution_count": 100,
   "id": "11fa0c9f",
   "metadata": {},
   "outputs": [],
   "source": [
    "intdims = np.load('./results/int_dim/MLE_intdim_MAX_Circle.npy', allow_pickle=True).item()\n",
    "\n",
    "MOUSES = ['22', '23', '24', '25']\n",
    "DAYS = [1,2,3]\n",
    "\n",
    "config = {\n",
    "    'dt':2500,\n",
    "    'n_neighbors':200, # for UMAP\n",
    "    'n_components': 7, #'intdim', # for UMAP\n",
    "    'n_neighbors_mi': 15, \n",
    "    'dt_iterator':100,\n",
    "}\n",
    "\n",
    "dt = config['dt']\n",
    "dt_iterator = config['dt_iterator']\n",
    "n_components = config['n_components']\n",
    "n_neighbors = config['n_neighbors'] \n",
    "n_neighbors_mi = config['n_neighbors_mi']\n",
    "\n",
    "experiment_path = f'results/MI/experiment_dt-{dt}_ncomp-{n_components}_nn-{n_neighbors}_nnmi-{n_neighbors_mi}'\n",
    "\n",
    "if not os.path.exists(experiment_path):\n",
    "    os.makedirs(experiment_path)\n",
    "else:\n",
    "    print(experiment_path, 'already exists!')\n",
    "\n",
    "np.save(experiment_path, config)"
   ]
  },
  {
   "cell_type": "code",
   "execution_count": null,
   "id": "3c132097",
   "metadata": {},
   "outputs": [
    {
     "data": {
      "application/vnd.jupyter.widget-view+json": {
       "model_id": "d2c9fae153d0411e8eed4917970bf9be",
       "version_major": 2,
       "version_minor": 0
      },
      "text/plain": [
       "  0%|          | 0/143 [00:00<?, ?it/s]"
      ]
     },
     "metadata": {},
     "output_type": "display_data"
    }
   ],
   "source": [
    "scores_mi_all = defaultdict(dict)\n",
    "\n",
    "for i, mouse in enumerate(MOUSES):\n",
    "    for j, day in enumerate(DAYS):\n",
    "        \n",
    "        data, targets = load_dataset('data', mouse=mouse, day=day, track=track, trims=TRIMS[day][mouse])\n",
    "        \n",
    "        X = data['cadata'].copy() # [T,d]\n",
    "        phi = targets['phi'].copy() # [T,1]\n",
    "        \n",
    "        X_n = RobustScaler().fit_transform(X) #normalize_features(X)\n",
    "        T = int(X_n.shape[0])\n",
    "        iterator = np.arange(0, T-dt, dt_iterator)\n",
    "        \n",
    "        if n_components == 'intdim':\n",
    "            dim = intdims[mouse][day]\n",
    "        elif isinstance(n_components, int):\n",
    "            dim = n_components\n",
    "        else:\n",
    "            raise RuntimeError('Wrong `n_components` argument!')\n",
    "        \n",
    "        # dimensionality reduction\n",
    "        method = UMAP(n_components=dim, \n",
    "                      n_neighbors=n_neighbors, \n",
    "                      n_jobs=1, \n",
    "                      random_state=42)\n",
    "\n",
    "        scores_mi = Parallel(n_jobs=min(len(iterator),N_CPU//2),\n",
    "                             verbose=0)(delayed(evaluate_mi)(method, \n",
    "                                                             X_n[i:i+dt,:], \n",
    "                                                             phi[i:i+dt], \n",
    "                                                             n_neighbors_mi)\n",
    "                                        for i in tqdm_notebook(iterator))\n",
    "\n",
    "        scores_mi = np.array(scores_mi)\n",
    "        scores_mi_all[mouse][day] = scores_mi\n",
    "        \n",
    "        np.save(os.path.join(experiment_path, f'UMAP-phi_M{mouse}_D{day}_{track}'), scores_mi)\n",
    "                "
   ]
  },
  {
   "cell_type": "code",
   "execution_count": null,
   "id": "1d783ec1",
   "metadata": {},
   "outputs": [],
   "source": [
    "# scores_mi_all = defaultdict(dict)\n",
    "# for i, mouse in enumerate(MOUSES):\n",
    "#     for j, day in enumerate(DAYS):\n",
    "#         scores_mi = np.load(os.path.join(experiment_path, f'UMAP-phi_M{mouse}_D{day}_{track}.npy'), allow_pickle=True)\n",
    "#         scores_mi_all[mouse][day] = scores_mi"
   ]
  },
  {
   "cell_type": "code",
   "execution_count": null,
   "id": "ab02bc22",
   "metadata": {},
   "outputs": [],
   "source": [
    "switch_times = defaultdict(list)\n",
    "scores_mi_mouses = defaultdict(list)\n",
    "for i, mouse in enumerate(MOUSES):\n",
    "    for j, day in enumerate(DAYS):\n",
    "        scores_mi = scores_mi_all[mouse][day] \n",
    "        scores_mi_mouses[mouse].append(scores_mi)\n",
    "        switch_times[mouse].append(len(scores_mi))\n",
    "    scores_mi_mouses[mouse] = np.concatenate(scores_mi_mouses[mouse])\n",
    "    switch_times[mouse] = np.cumsum(switch_times[mouse])\n",
    "    \n",
    "    \n",
    "    x = np.arange(len(scores_mi_mouses[mouse]))\n",
    "    MI = scores_mi_mouses[mouse]\n",
    "    z = np.polyfit(x, MI, deg=3)\n",
    "    poly = np.poly1d(z)\n",
    "    \n",
    "    plt.figure()\n",
    "    plt.plot(MI)\n",
    "    plt.plot(poly(x), color='orange', linestyle='--')\n",
    "    \n",
    "    plt.vlines(switch_times[mouse], min(MI), max(MI), color='red')\n",
    "    plt.title(f'Mouse: {mouse}, MI with UMAP')\n",
    "    plt.ylabel('MI')\n",
    "    plt.xlabel('# timewindow')\n",
    "    plt.show()"
   ]
  },
  {
   "cell_type": "code",
   "execution_count": null,
   "id": "5ad02b38",
   "metadata": {},
   "outputs": [],
   "source": []
  }
 ],
 "metadata": {
  "kernelspec": {
   "display_name": "Python 3 (ipykernel)",
   "language": "python",
   "name": "python3"
  },
  "language_info": {
   "codemirror_mode": {
    "name": "ipython",
    "version": 3
   },
   "file_extension": ".py",
   "mimetype": "text/x-python",
   "name": "python",
   "nbconvert_exporter": "python",
   "pygments_lexer": "ipython3",
   "version": "3.8.13"
  }
 },
 "nbformat": 4,
 "nbformat_minor": 5
}
