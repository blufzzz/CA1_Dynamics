{
 "cells": [
  {
   "cell_type": "code",
   "execution_count": 1,
   "id": "510aaae4",
   "metadata": {},
   "outputs": [],
   "source": [
    "%load_ext autoreload \n",
    "\n",
    "import numpy as np\n",
    "import pandas as pd\n",
    "import os\n",
    "\n",
    "import torch\n",
    "import torch.nn as nn\n",
    "import torch.nn.functional as F\n",
    "import torch.optim as optim \n",
    "from torch.utils.data import Dataset, DataLoader\n",
    "\n",
    "from collections import defaultdict\n",
    "from joblib import Parallel, delayed, pool\n",
    "from multiprocessing import cpu_count\n",
    "from IPython.display import clear_output\n",
    "import matplotlib.pyplot as plt\n",
    "from itertools import combinations\n",
    "from tqdm import tqdm_notebook\n",
    "\n",
    "from sklearn.multioutput import RegressorChain, MultiOutputRegressor\n",
    "from sklearn.decomposition import PCA\n",
    "from sklearn.ensemble import RandomForestRegressor\n",
    "from sklearn.model_selection import cross_val_score, train_test_split\n",
    "from sklearn.feature_selection import mutual_info_regression\n",
    "from sklearn.manifold import Isomap, LocallyLinearEmbedding, TSNE\n",
    "from sklearn.metrics import make_scorer, r2_score\n",
    "from sklearn.linear_model import Ridge, Lasso\n",
    "from sklearn.neural_network import MLPRegressor\n",
    "from sklearn.neighbors import KNeighborsRegressor\n",
    "from sklearn.preprocessing import StandardScaler, RobustScaler\n",
    "from lightgbm import LGBMRegressor\n",
    "from statsmodels.tsa.api import ExponentialSmoothing, SimpleExpSmoothing, Holt\n",
    "from umap import UMAP\n",
    "\n",
    "from utils import load_dataset\n",
    "N_CPU = cpu_count()\n",
    "import warnings\n",
    "warnings.filterwarnings(\"ignore\")\n",
    "%autoreload 2"
   ]
  },
  {
   "cell_type": "code",
   "execution_count": null,
   "id": "b2e975bd",
   "metadata": {},
   "outputs": [],
   "source": []
  },
  {
   "cell_type": "code",
   "execution_count": null,
   "id": "6f53a1f9",
   "metadata": {},
   "outputs": [],
   "source": []
  },
  {
   "cell_type": "code",
   "execution_count": null,
   "id": "feb4826f",
   "metadata": {},
   "outputs": [],
   "source": []
  },
  {
   "cell_type": "markdown",
   "id": "6e039a96",
   "metadata": {},
   "source": [
    "# Calculate distances"
   ]
  },
  {
   "cell_type": "code",
   "execution_count": null,
   "id": "152fe52d",
   "metadata": {},
   "outputs": [],
   "source": [
    "distance_path = 'distances'"
   ]
  },
  {
   "cell_type": "code",
   "execution_count": null,
   "id": "a02b7b3d",
   "metadata": {},
   "outputs": [],
   "source": [
    "def compute_pdist_l1(data, name, distance_path):\n",
    "    data_ = data.copy()\n",
    "    S = squareform(pdist(data_, metric='minkowski', p=1))\n",
    "    path = os.path.join(distance_path, f'orig_L1_{name}')\n",
    "    np.save(path, S)\n",
    "    \n",
    "_ = Parallel(n_jobs=len(data_orig))(delayed(compute_pdist_l1)(data, name, distance_path) \n",
    "                                        for name, data in data_orig.items())"
   ]
  },
  {
   "cell_type": "code",
   "execution_count": null,
   "id": "f1c072e4",
   "metadata": {},
   "outputs": [],
   "source": [
    "\n",
    "def compute_pdist_l2(data, name, distance_path):\n",
    "    data_ = data.copy()\n",
    "    S = squareform(pdist(data_, metric='minkowski', p=2))\n",
    "    path = os.path.join(distance_path, f'orig_L2_{name}')\n",
    "    np.save(path, S)\n",
    "    \n",
    "_ = Parallel(n_jobs=len(data_orig))(delayed(compute_pdist_l2)(data, name, distance_path) \n",
    "                                        for name, data in data_orig.items())"
   ]
  },
  {
   "cell_type": "code",
   "execution_count": null,
   "id": "3a217a35",
   "metadata": {},
   "outputs": [],
   "source": [
    "def js(p,q):\n",
    "    # jensen-shennon divegence\n",
    "    EPS = 1e-10\n",
    "    dkl_pq = np.sum(p * np.log((p+EPS)/(q + EPS)))\n",
    "    dkl_qp = np.sum(q * np.log((q+EPS)/(p + EPS)))\n",
    "    J = (dkl_pq + dkl_qp)/2\n",
    "    return J\n",
    "\n",
    "def compute_pdist_js(data, name, distance_path):\n",
    "    data_ = data.copy()\n",
    "    \n",
    "    N = data_.shape[0]\n",
    "    S = np.zeros((N,N))\n",
    "    for i in range(N):\n",
    "        for j in range(i+1,N):\n",
    "            d = js(data_[i], data_[j])\n",
    "            S[i,j] = d\n",
    "            S[j,i] = d\n",
    "            \n",
    "    path = os.path.join(distance_path, f'orig_JS_{name}')\n",
    "    np.save(path, S)\n",
    "    \n",
    "if 'JS' in distances_names:\n",
    "    _ = Parallel(n_jobs=len(data_orig))(delayed(compute_pdist_js)(data, name, distance_path) \n",
    "                                            for name, data in data_orig.items())"
   ]
  },
  {
   "cell_type": "code",
   "execution_count": null,
   "id": "10363a3d",
   "metadata": {},
   "outputs": [],
   "source": [
    "def compute_pdist_bc(data, name):\n",
    "    data_ = data.copy()\n",
    "    N = data_.shape[0]\n",
    "    \n",
    "    S = np.zeros((N,N))\n",
    "    for i in range(N):\n",
    "        for j in range(i+1,N):\n",
    "            d = braycurtis(data_[i], data_[j])\n",
    "            S[i,j] = d\n",
    "            S[j,i] = d\n",
    "            \n",
    "    np.save(f'./distances_processed/orig_BC_{name}',S)\n",
    "    \n",
    "if 'BC' in distances_names:\n",
    "    _ = Parallel(n_jobs=len(data_orig))(delayed(compute_pdist_bc)(data, name) \n",
    "                                            for name, data in data_orig.items())"
   ]
  },
  {
   "cell_type": "code",
   "execution_count": null,
   "id": "ef2b123c",
   "metadata": {},
   "outputs": [],
   "source": []
  }
 ],
 "metadata": {
  "kernelspec": {
   "display_name": "Python 3 (ipykernel)",
   "language": "python",
   "name": "python3"
  },
  "language_info": {
   "codemirror_mode": {
    "name": "ipython",
    "version": 3
   },
   "file_extension": ".py",
   "mimetype": "text/x-python",
   "name": "python",
   "nbconvert_exporter": "python",
   "pygments_lexer": "ipython3",
   "version": "3.8.13"
  }
 },
 "nbformat": 4,
 "nbformat_minor": 5
}
